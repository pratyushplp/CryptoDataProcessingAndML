{
 "cells": [
  {
   "attachments": {},
   "cell_type": "markdown",
   "metadata": {},
   "source": [
    "We will clean the csv file which has historical data."
   ]
  },
  {
   "cell_type": "code",
   "execution_count": 42,
   "metadata": {},
   "outputs": [],
   "source": [
    "import pandas as pd\n",
    "import numpy as np\n",
    "import os"
   ]
  },
  {
   "cell_type": "code",
   "execution_count": 57,
   "metadata": {},
   "outputs": [
    {
     "name": "stdout",
     "output_type": "stream",
     "text": [
      "               Unix        Date   Symbol     Open     High      Low    Close  \\\n",
      "0     1680048000000  2023-03-29  ETHUSDT  1773.00  1827.99  1772.48  1793.07   \n",
      "1     1679961600000  2023-03-28  ETHUSDT  1715.21  1795.73  1701.13  1772.99   \n",
      "2     1679875200000  2023-03-27  ETHUSDT  1773.88  1780.48  1686.13  1715.22   \n",
      "3     1679788800000  2023-03-26  ETHUSDT  1741.88  1801.00  1739.31  1773.88   \n",
      "4     1679702400000  2023-03-25  ETHUSDT  1749.57  1763.23  1713.09  1741.88   \n",
      "...             ...         ...      ...      ...      ...      ...      ...   \n",
      "2046  1503273600000  2017-08-21  ETHUSDT   299.10   346.52   294.60   323.29   \n",
      "2047  1503187200000  2017-08-20  ETHUSDT   289.41   300.53   282.85   299.10   \n",
      "2048  1503100800000  2017-08-19  ETHUSDT   293.31   299.90   278.00   290.91   \n",
      "2049  1503014400000  2017-08-18  ETHUSDT   302.00   311.79   283.94   293.96   \n",
      "2050  1502928000000  2017-08-17  ETHUSDT   301.13   312.18   298.00   302.00   \n",
      "\n",
      "        Volume ETH   Volume USDT  tradecount  \n",
      "0     536865.59720  9.673423e+08      810500  \n",
      "1     536511.39730  9.355074e+08      766887  \n",
      "2     570563.50230  9.871980e+08      810253  \n",
      "3     354933.23720  6.276605e+08      592618  \n",
      "4     355679.37430  6.203420e+08      620651  \n",
      "...            ...           ...         ...  \n",
      "2046    5219.44542  1.689472e+06        3925  \n",
      "2047    2510.13871  7.428479e+05        2038  \n",
      "2048    2146.19773  6.200226e+05        1795  \n",
      "2049    9537.84646  2.858947e+06        5658  \n",
      "2050    7030.71034  2.154655e+06        4522  \n",
      "\n",
      "[2051 rows x 10 columns]\n"
     ]
    }
   ],
   "source": [
    "#NOTE: , in the end convert to a function, with filepath and interval as parameters\n",
    "#read value\n",
    "df= pd.read_csv('./historical_data/Binance_ETHUSDT_d.csv',header=1) # second row is column names\n",
    "interval = '1d'\n",
    "print(df)"
   ]
  },
  {
   "cell_type": "code",
   "execution_count": 58,
   "metadata": {},
   "outputs": [
    {
     "name": "stdout",
     "output_type": "stream",
     "text": [
      "Index(['Unix', 'Date', 'Symbol', 'Open', 'High', 'Low', 'Close', 'Volume ETH',\n",
      "       'Volume USDT', 'tradecount'],\n",
      "      dtype='object')\n"
     ]
    },
    {
     "ename": "KeyError",
     "evalue": "['start_time', 'close_time']",
     "output_type": "error",
     "traceback": [
      "\u001b[0;31m---------------------------------------------------------------------------\u001b[0m",
      "\u001b[0;31mKeyError\u001b[0m                                  Traceback (most recent call last)",
      "Cell \u001b[0;32mIn[58], line 16\u001b[0m\n\u001b[1;32m     13\u001b[0m     df[\u001b[39m\"\u001b[39m\u001b[39mclose_datetime\u001b[39m\u001b[39m\"\u001b[39m] \u001b[39m=\u001b[39m pd\u001b[39m.\u001b[39mto_datetime(df[\u001b[39m'\u001b[39m\u001b[39mstart_datetime\u001b[39m\u001b[39m'\u001b[39m])\u001b[39m+\u001b[39m pd\u001b[39m.\u001b[39mTimedelta(days\u001b[39m=\u001b[39m\u001b[39m1\u001b[39m)\n\u001b[1;32m     15\u001b[0m \u001b[39m#drop column if value null\u001b[39;00m\n\u001b[0;32m---> 16\u001b[0m df\u001b[39m.\u001b[39;49mdropna(subset\u001b[39m=\u001b[39;49m[\u001b[39m'\u001b[39;49m\u001b[39msymbol\u001b[39;49m\u001b[39m'\u001b[39;49m,\u001b[39m'\u001b[39;49m\u001b[39mstart_time\u001b[39;49m\u001b[39m'\u001b[39;49m,\u001b[39m'\u001b[39;49m\u001b[39mclose_time\u001b[39;49m\u001b[39m'\u001b[39;49m,\u001b[39m'\u001b[39;49m\u001b[39mopen\u001b[39;49m\u001b[39m'\u001b[39;49m,\u001b[39m'\u001b[39;49m\u001b[39mclose\u001b[39;49m\u001b[39m'\u001b[39;49m,\u001b[39m'\u001b[39;49m\u001b[39mhigh\u001b[39;49m\u001b[39m'\u001b[39;49m,\u001b[39m'\u001b[39;49m\u001b[39mlow\u001b[39;49m\u001b[39m'\u001b[39;49m,\u001b[39m'\u001b[39;49m\u001b[39mbase_volume\u001b[39;49m\u001b[39m'\u001b[39;49m], inplace\u001b[39m=\u001b[39;49m\u001b[39mTrue\u001b[39;49;00m)\n",
      "File \u001b[0;32m/opt/homebrew/Caskroom/miniforge/base/envs/ML/lib/python3.8/site-packages/pandas/util/_decorators.py:331\u001b[0m, in \u001b[0;36mdeprecate_nonkeyword_arguments.<locals>.decorate.<locals>.wrapper\u001b[0;34m(*args, **kwargs)\u001b[0m\n\u001b[1;32m    325\u001b[0m \u001b[39mif\u001b[39;00m \u001b[39mlen\u001b[39m(args) \u001b[39m>\u001b[39m num_allow_args:\n\u001b[1;32m    326\u001b[0m     warnings\u001b[39m.\u001b[39mwarn(\n\u001b[1;32m    327\u001b[0m         msg\u001b[39m.\u001b[39mformat(arguments\u001b[39m=\u001b[39m_format_argument_list(allow_args)),\n\u001b[1;32m    328\u001b[0m         \u001b[39mFutureWarning\u001b[39;00m,\n\u001b[1;32m    329\u001b[0m         stacklevel\u001b[39m=\u001b[39mfind_stack_level(),\n\u001b[1;32m    330\u001b[0m     )\n\u001b[0;32m--> 331\u001b[0m \u001b[39mreturn\u001b[39;00m func(\u001b[39m*\u001b[39;49margs, \u001b[39m*\u001b[39;49m\u001b[39m*\u001b[39;49mkwargs)\n",
      "File \u001b[0;32m/opt/homebrew/Caskroom/miniforge/base/envs/ML/lib/python3.8/site-packages/pandas/core/frame.py:6558\u001b[0m, in \u001b[0;36mDataFrame.dropna\u001b[0;34m(self, axis, how, thresh, subset, inplace)\u001b[0m\n\u001b[1;32m   6556\u001b[0m     check \u001b[39m=\u001b[39m indices \u001b[39m==\u001b[39m \u001b[39m-\u001b[39m\u001b[39m1\u001b[39m\n\u001b[1;32m   6557\u001b[0m     \u001b[39mif\u001b[39;00m check\u001b[39m.\u001b[39many():\n\u001b[0;32m-> 6558\u001b[0m         \u001b[39mraise\u001b[39;00m \u001b[39mKeyError\u001b[39;00m(np\u001b[39m.\u001b[39marray(subset)[check]\u001b[39m.\u001b[39mtolist())\n\u001b[1;32m   6559\u001b[0m     agg_obj \u001b[39m=\u001b[39m \u001b[39mself\u001b[39m\u001b[39m.\u001b[39mtake(indices, axis\u001b[39m=\u001b[39magg_axis)\n\u001b[1;32m   6561\u001b[0m \u001b[39mif\u001b[39;00m thresh \u001b[39mis\u001b[39;00m \u001b[39mnot\u001b[39;00m no_default:\n",
      "\u001b[0;31mKeyError\u001b[0m: ['start_time', 'close_time']"
     ]
    }
   ],
   "source": [
    "#TRANSFORMATION\n",
    "\n",
    "print(df.columns)\n",
    "#initial naming columns\n",
    "col_list =[]\n",
    "if(interval =='1d'):\n",
    "    col_list = ['datetime','start_datetime','symbol','open','high','low','close','base_volume','quote_volume','num_trades']\n",
    "df.columns = col_list\n",
    "\n",
    "#NOTE in case of this dataset we need to add end_date and interval\n",
    "df[\"interval\"] = interval\n",
    "if(interval =='1d'):\n",
    "    df[\"close_datetime\"] = pd.to_datetime(df['start_datetime'])+ pd.Timedelta(days=1)\n",
    "\n",
    "#drop column if value null\n",
    "df.dropna(subset=['symbol','start_datetime','close_datetime','open','close','high','low','base_volume'], inplace=True)"
   ]
  }
 ],
 "metadata": {
  "kernelspec": {
   "display_name": "ML",
   "language": "python",
   "name": "python3"
  },
  "language_info": {
   "codemirror_mode": {
    "name": "ipython",
    "version": 3
   },
   "file_extension": ".py",
   "mimetype": "text/x-python",
   "name": "python",
   "nbconvert_exporter": "python",
   "pygments_lexer": "ipython3",
   "version": "3.8.15"
  },
  "orig_nbformat": 4
 },
 "nbformat": 4,
 "nbformat_minor": 2
}
